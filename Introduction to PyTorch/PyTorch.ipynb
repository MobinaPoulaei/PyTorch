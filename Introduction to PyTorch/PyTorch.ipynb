{
  "nbformat": 4,
  "nbformat_minor": 0,
  "metadata": {
    "colab": {
      "provenance": [],
      "gpuType": "T4"
    },
    "kernelspec": {
      "name": "python3",
      "display_name": "Python 3"
    },
    "language_info": {
      "name": "python"
    },
    "accelerator": "GPU"
  },
  "cells": [
    {
      "cell_type": "markdown",
      "source": [
        "# Required Libraries\n",
        "First, we import necessary libraries for our work with PyTorch, as well as other utility libraries for data handling and visualization.\n"
      ],
      "metadata": {
        "id": "a0VLFhgXSoEu"
      }
    },
    {
      "cell_type": "code",
      "source": [
        "import torch\n",
        "import torch.nn as nn\n",
        "import torch.optim as optim\n",
        "from torchvision import datasets, transforms\n",
        "from torch.utils.data import DataLoader, Dataset\n",
        "\n",
        "import warnings\n",
        "warnings.filterwarnings('ignore')\n",
        "\n",
        "import matplotlib.pyplot as plt"
      ],
      "metadata": {
        "id": "eZmATOTJsfgC"
      },
      "execution_count": null,
      "outputs": []
    },
    {
      "cell_type": "markdown",
      "source": [
        "# Basic Concepts\n",
        "## Create a 1D Tensor\n",
        "Let's start by creating a basic one-dimensional tensor using torch.tensor. This is a fundamental building block in PyTorch.\n",
        "\n"
      ],
      "metadata": {
        "id": "E7IKbt5gSuXl"
      }
    },
    {
      "cell_type": "code",
      "source": [
        "# Create a 1D tensor\n",
        "x = torch.tensor([1, 2, 3])\n",
        "\n",
        "print(f'Tensor: {x}')\n",
        "print(f'Tensor shape: {x.shape}')"
      ],
      "metadata": {
        "colab": {
          "base_uri": "https://localhost:8080/"
        },
        "id": "TOodOzzFg4ka",
        "outputId": "f0378ccf-f3a0-4229-e6b0-1b337db89373"
      },
      "execution_count": null,
      "outputs": [
        {
          "output_type": "stream",
          "name": "stdout",
          "text": [
            "Tensor: tensor([1, 2, 3])\n",
            "Tensor shape: torch.Size([3])\n"
          ]
        }
      ]
    },
    {
      "cell_type": "markdown",
      "source": [
        "##Create a Tensor of Zeros\n",
        "Next, we create a tensor filled with zeros using torch.zeros. This is useful for initializing weights in neural networks."
      ],
      "metadata": {
        "id": "hh6HI0yvqyH3"
      }
    },
    {
      "cell_type": "code",
      "source": [
        "# Create a tensor of zeros\n",
        "x = torch.zeros(2, 3)\n",
        "print(f'Zeros Tensor:\\n{x}')"
      ],
      "metadata": {
        "colab": {
          "base_uri": "https://localhost:8080/"
        },
        "id": "w_J8S13eg5Fz",
        "outputId": "a82167d5-937b-4335-ffa2-2d1c2bda0bd5"
      },
      "execution_count": null,
      "outputs": [
        {
          "output_type": "stream",
          "name": "stdout",
          "text": [
            "Zeros Tensor:\n",
            "tensor([[0., 0., 0.],\n",
            "        [0., 0., 0.]])\n"
          ]
        }
      ]
    },
    {
      "cell_type": "markdown",
      "source": [
        "##Create a Random Tensor\n",
        "Here, we create a tensor with random values using torch.rand. This can be used for stochastic processes and initializing weights randomly."
      ],
      "metadata": {
        "id": "9qHe30v6q6M_"
      }
    },
    {
      "cell_type": "code",
      "source": [
        "# Create a random tensor\n",
        "x = torch.rand(size=(3, 4))\n",
        "print(f'Random Tensor:\\n{x}')"
      ],
      "metadata": {
        "colab": {
          "base_uri": "https://localhost:8080/"
        },
        "id": "ELRKIZhPxknk",
        "outputId": "147ea6f4-a450-4c17-f7bf-0c9175835dfa"
      },
      "execution_count": null,
      "outputs": [
        {
          "output_type": "stream",
          "name": "stdout",
          "text": [
            "Random Tensor:\n",
            "tensor([[0.6765, 0.0860, 0.4559, 0.3677],\n",
            "        [0.9532, 0.9580, 0.1793, 0.1371],\n",
            "        [0.6012, 0.1261, 0.9353, 0.1900]])\n"
          ]
        }
      ]
    },
    {
      "cell_type": "markdown",
      "source": [
        "## Create a 2D Tensor\n",
        "We create a two-dimensional tensor to illustrate how PyTorch handles higher-dimensional data."
      ],
      "metadata": {
        "id": "YyZbzeqgq8uP"
      }
    },
    {
      "cell_type": "code",
      "source": [
        "# Create a 2D tensor\n",
        "x = torch.tensor([[1, 2, 3], [4, 5, 6]])\n",
        "print(f'Tensor:\\n{x}')"
      ],
      "metadata": {
        "colab": {
          "base_uri": "https://localhost:8080/"
        },
        "id": "Sit7Bg2Fuj7j",
        "outputId": "aea24aed-22b9-41d4-cf93-5de765918634"
      },
      "execution_count": null,
      "outputs": [
        {
          "output_type": "stream",
          "name": "stdout",
          "text": [
            "Tensor:\n",
            "tensor([[1, 2, 3],\n",
            "        [4, 5, 6]])\n",
            "Reshaped Tensor:\n",
            "tensor([[1, 2],\n",
            "        [3, 4],\n",
            "        [5, 6]])\n",
            "Sum of two tensors:\n",
            " tensor([[2, 3, 4],\n",
            "        [5, 6, 7]])\n"
          ]
        }
      ]
    },
    {
      "cell_type": "markdown",
      "source": [
        "##Reshape the Tensor\n",
        "Reshaping tensors is often required in machine learning tasks to ensure the data fits the model's input requirements."
      ],
      "metadata": {
        "id": "pnDu3L9drKGA"
      }
    },
    {
      "cell_type": "code",
      "source": [
        "# Reshape the tensor\n",
        "x_reshaped = x.view(3, 2)\n",
        "print(f'Reshaped Tensor:\\n{x_reshaped}')"
      ],
      "metadata": {
        "id": "IHzIRcwXrMkB"
      },
      "execution_count": null,
      "outputs": []
    },
    {
      "cell_type": "markdown",
      "source": [
        "##Summation Operation\n",
        "We demonstrate element-wise summation of two tensors, which is a basic but essential operation in many neural network computations"
      ],
      "metadata": {
        "id": "r3ToeZ4CrO-3"
      }
    },
    {
      "cell_type": "code",
      "source": [
        "# Summation operation\n",
        "y = torch.tensor([[1, 1, 1], [1, 1, 1]])\n",
        "z = x + y\n",
        "print(f'Sum of two tensors:\\n {z}')"
      ],
      "metadata": {
        "id": "xtJioMAzrObR"
      },
      "execution_count": null,
      "outputs": []
    },
    {
      "cell_type": "markdown",
      "source": [
        "# Autograd\n",
        "## Create a Computational Graph for Backpropagation\n",
        "Autograd in PyTorch is used for automatic differentiation. Here, we create a simple computational graph and calculate gradients."
      ],
      "metadata": {
        "id": "NDrcFW41TEEO"
      }
    },
    {
      "cell_type": "code",
      "source": [
        "# Create a computational graph to calculate gradients in BackPropogation\n",
        "x = torch.tensor([1.0, 2.0, 6.0], requires_grad=True)\n",
        "\n",
        "# Mathematical calculus\n",
        "y = x * 2\n",
        "z = y.mean()\n",
        "\n",
        "# Calculate Gradient\n",
        "z.backward()\n",
        "print(x.grad)"
      ],
      "metadata": {
        "colab": {
          "base_uri": "https://localhost:8080/"
        },
        "id": "rZJVK2wU1LrN",
        "outputId": "88bcdd60-0768-4101-e0e0-7a4a87680645"
      },
      "execution_count": null,
      "outputs": [
        {
          "output_type": "stream",
          "name": "stdout",
          "text": [
            "tensor([0.6667, 0.6667, 0.6667])\n"
          ]
        }
      ]
    },
    {
      "cell_type": "markdown",
      "source": [
        "# Dataset & DataLoader\n",
        "## Custom Dataset Class\n",
        "We create a custom dataset class by subclassing torch.utils.data.Dataset. This is necessary for handling our training and validation data in a structured manner."
      ],
      "metadata": {
        "id": "1av_OVnWTK9U"
      }
    },
    {
      "cell_type": "code",
      "source": [
        "# Dataset and Dataloader\n",
        "class MyDataset(Dataset):\n",
        "    def __init__(self, X, y):\n",
        "        self.X = X\n",
        "        self.y = y\n",
        "        self.len = self.X.shape[0]\n",
        "\n",
        "    def __getitem__(self, index):\n",
        "        return self.X[index], self.y[index]\n",
        "\n",
        "    def __len__(self):\n",
        "        return self.len"
      ],
      "metadata": {
        "id": "fq5oMqy86leX"
      },
      "execution_count": null,
      "outputs": []
    },
    {
      "cell_type": "markdown",
      "source": [
        "## Create Training and Validation Data\n",
        "We generate synthetic training and validation data to simulate a dataset for our model to learn from."
      ],
      "metadata": {
        "id": "zhWU6YYir9Nv"
      }
    },
    {
      "cell_type": "code",
      "source": [
        "# Make train data\n",
        "X_train = torch.rand(size=(50, 1))\n",
        "y_train = X_train**3 + 2\n",
        "\n",
        "# Make validation data\n",
        "X_val = torch.rand(size=(20, 1))\n",
        "y_val = X_val**3 + 2"
      ],
      "metadata": {
        "id": "ONThrKWLr3Qw"
      },
      "execution_count": null,
      "outputs": []
    },
    {
      "cell_type": "markdown",
      "source": [
        "## Create DataLoaders\n",
        "DataLoaders are used to iterate over the dataset in batches. This is crucial for training neural networks efficiently."
      ],
      "metadata": {
        "id": "V6lUuEZor_CB"
      }
    },
    {
      "cell_type": "code",
      "source": [
        "# Make train loader\n",
        "trainset = MyDataset(X_train, y_train)\n",
        "train_loader = DataLoader(trainset, batch_size=4, shuffle=True)\n",
        "\n",
        "# Make test loader\n",
        "valset = MyDataset(X_val, y_val)\n",
        "val_loader = DataLoader(valset, batch_size=4, shuffle=True)"
      ],
      "metadata": {
        "id": "OQ-Wd_YNr5Cf"
      },
      "execution_count": null,
      "outputs": []
    },
    {
      "cell_type": "markdown",
      "source": [
        "# Neural Network (MLP)\n",
        "## Define the Model\n",
        "We define a simple multi-layer perceptron (MLP) for predicting the function\n",
        "𝑦\n",
        "=\n",
        "𝑥^3\n",
        "+\n",
        "2\n",
        "This involves defining layers and the forward pass."
      ],
      "metadata": {
        "id": "dvqho6LtTRVd"
      }
    },
    {
      "cell_type": "code",
      "source": [
        "# MLP for predicting y= x^3 + 2 line\n",
        "class SimpleModel(nn.Module):\n",
        "    def __init__(self, input_size, output_size):\n",
        "      super(SimpleModel, self).__init__()\n",
        "      self.fc1 = nn.Linear(input_size, 15)\n",
        "      self.relu = nn.ReLU()\n",
        "      self.fc2 = nn.Linear(15, output_size)\n",
        "\n",
        "    def forward(self, x):\n",
        "      x = self.fc1(x)\n",
        "      x = self.relu(x)\n",
        "      x = self.fc2(x)\n",
        "      return x"
      ],
      "metadata": {
        "id": "l1Zl5WnXhFtf"
      },
      "execution_count": null,
      "outputs": []
    },
    {
      "cell_type": "markdown",
      "source": [
        "## Initialize Model, Loss Function, and Optimizer\n",
        "We instantiate the model, define the mean squared error loss function, and set up the stochastic gradient descent optimizer."
      ],
      "metadata": {
        "id": "QQftHxp0sETh"
      }
    },
    {
      "cell_type": "code",
      "source": [
        "input_size, output_size = X_train.shape[1], y_train.shape[1]\n",
        "model = SimpleModel(input_size, output_size)\n",
        "\n",
        "# Loss functiona and Optimizer\n",
        "criterion = nn.MSELoss()\n",
        "optimizer = optim.SGD(model.parameters(), lr=0.001, momentum=0.9)"
      ],
      "metadata": {
        "id": "UUHxg4dgsKL3"
      },
      "execution_count": null,
      "outputs": []
    },
    {
      "cell_type": "markdown",
      "source": [
        "## Training the Model\n",
        "The training loop involves feeding batches of data through the model, calculating loss, backpropagating gradients, and updating the model parameters."
      ],
      "metadata": {
        "id": "wg_1O1RWsR5g"
      }
    },
    {
      "cell_type": "code",
      "source": [
        "# Lists to store loss values\n",
        "train_losses = []\n",
        "val_losses = []\n",
        "\n",
        "for epoch in range(25):\n",
        "    # Training phase\n",
        "    model.train()\n",
        "    epoch_train_loss = 0\n",
        "    for X_train, y_train in train_loader:\n",
        "        optimizer.zero_grad()\n",
        "        outputs = model(X_train)\n",
        "        loss = criterion(outputs, y_train)\n",
        "        loss.backward()\n",
        "        optimizer.step()\n",
        "        epoch_train_loss += loss.item()\n",
        "\n",
        "    epoch_train_loss /= len(train_loader)\n",
        "    train_losses.append(epoch_train_loss)\n",
        "\n",
        "    # Validation phase\n",
        "    model.eval()\n",
        "    epoch_val_loss = 0\n",
        "    with torch.no_grad():\n",
        "        for X_val, y_val in val_loader:\n",
        "            val_outputs = model(X_val)\n",
        "            loss = criterion(val_outputs, y_val)\n",
        "            epoch_val_loss += loss.item()\n",
        "\n",
        "    epoch_val_loss /= len(val_loader)\n",
        "    val_losses.append(epoch_val_loss)\n",
        "\n",
        "    if (epoch+1) % 5 == 0:\n",
        "        print(f'Epoch [{epoch+1}/25], Training Loss: {epoch_train_loss:.4f},\\\n",
        "         Validation Loss: {epoch_val_loss:.4f}')"
      ],
      "metadata": {
        "colab": {
          "base_uri": "https://localhost:8080/"
        },
        "id": "Gvmkv4sPjkDf",
        "outputId": "e3d06bc8-6776-444c-e5e0-b671085145d5"
      },
      "execution_count": null,
      "outputs": [
        {
          "output_type": "stream",
          "name": "stdout",
          "text": [
            "Epoch [5/25], Training Loss: 0.0614,         Validation Loss: 0.0505\n",
            "Epoch [10/25], Training Loss: 0.0346,         Validation Loss: 0.0364\n",
            "Epoch [15/25], Training Loss: 0.0231,         Validation Loss: 0.0264\n",
            "Epoch [20/25], Training Loss: 0.0163,         Validation Loss: 0.0207\n",
            "Epoch [25/25], Training Loss: 0.0138,         Validation Loss: 0.0166\n"
          ]
        }
      ]
    },
    {
      "cell_type": "markdown",
      "source": [
        "## Plotting the Training and Validation Loss\n",
        "Finally, we plot the training and validation loss over epochs to visualize the model's learning process and detect overfitting or underfitting."
      ],
      "metadata": {
        "id": "PQGdUI99sTRq"
      }
    },
    {
      "cell_type": "code",
      "source": [
        "plt.figure(figsize=(8, 5))\n",
        "\n",
        "plt.plot(range(1, 26), train_losses, label='Training Loss')\n",
        "plt.plot(range(1, 26), val_losses, label='Validation Loss')\n",
        "\n",
        "plt.xlabel('Epochs')\n",
        "plt.ylabel('Loss')\n",
        "plt.title('Training and Validation Loss')\n",
        "plt.legend()\n",
        "plt.show()"
      ],
      "metadata": {
        "colab": {
          "base_uri": "https://localhost:8080/"
        },
        "id": "9IrdkuEL043I",
        "outputId": "e844e377-675f-42cb-d20d-68d2ade0574d"
      },
      "execution_count": null,
      "outputs": [
        {
          "output_type": "display_data",
          "data": {
            "text/plain": [
              "<Figure size 800x500 with 1 Axes>"
            ],
            "image/png": "[encoded data removed]"
          },
          "metadata": {}
        }
      ]
    }
  ]
}