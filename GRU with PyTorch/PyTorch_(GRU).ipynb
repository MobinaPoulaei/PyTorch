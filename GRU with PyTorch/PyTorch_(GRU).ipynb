{
  "nbformat": 4,
  "nbformat_minor": 0,
  "metadata": {
    "colab": {
      "provenance": [],
      "gpuType": "T4"
    },
    "kernelspec": {
      "name": "python3",
      "display_name": "Python 3"
    },
    "language_info": {
      "name": "python"
    },
    "accelerator": "GPU"
  },
  "cells": [
    {
      "cell_type": "markdown",
      "source": [
        "##Time Series Forecasting Task: Stock Price Prediction\n",
        "The task at hand is a classic example of time series forecasting, where the goal is to predict future values based on previously observed values. Specifically, we aim to predict the future stock prices of Apple Inc. (AAPL) using historical stock price data.\n",
        "\n",
        "The primary goal is to develop a predictive model that can accurately forecast future stock prices. By analyzing patterns and trends in historical data, the model will attempt to predict the closing prices of the stock for the upcoming days.\n",
        "\n",
        "## Challenges in Time Series Forecasting\n",
        "- **Temporal Dependency**: Unlike traditional regression tasks, time series data points are dependent on each other over time. Capturing this temporal dependency is crucial for accurate predictions.\n",
        "- **Trend and Seasonality**: Stock prices often exhibit trends (long-term increase or decrease) and seasonality (repeating patterns over specific periods). Identifying and modeling these components is essential.\n",
        "- **Noise and Volatility**: Financial data is typically noisy and can be highly volatile due to market conditions, economic events, and other external factors.\n",
        "- **Data Stationarity**: Many statistical models assume that the time series data is stationary, meaning its statistical properties do not change over time. Non-stationary data needs to be transformed for effective modeling.\n",
        "\n",
        "##Methodology\n",
        "- **Data Collection**: Gather historical stock price data, which includes daily prices such as open, high, low, close, and volume. For this task, we focus on the closing prices.\n",
        "- **Data Preprocessing**: Normalize the data to ensure it is on a consistent scale, making it easier for the model to learn. Also, create sequences of historical prices to use as inputs for the model.\n",
        "- **Model Selection**: Use a GRU (Gated Recurrent Unit) neural network, a type of RNN (Recurrent Neural Network) that is effective in capturing temporal dependencies in sequential data."
      ],
      "metadata": {
        "id": "Ohi0xk70Fu7b"
      }
    },
    {
      "cell_type": "markdown",
      "source": [
        "##Installing yfinance\n",
        "This cell installs the yfinance library, which is used to download historical market data from Yahoo Finance. This library will be used later to fetch stock prices.\n",
        "\n"
      ],
      "metadata": {
        "id": "aEyy8SzsF88h"
      }
    },
    {
      "cell_type": "code",
      "source": [
        "!pip install yfinance"
      ],
      "metadata": {
        "id": "EyGkGeRb3b-z"
      },
      "execution_count": null,
      "outputs": []
    },
    {
      "cell_type": "markdown",
      "source": [
        "## Importing Required Libraries\n",
        "This cell imports the necessary libraries needed for data manipulation, visualization, and building neural networks. The libraries include NumPy for numerical operations, Matplotlib for plotting, Pandas for data handling, PyTorch for neural network creation, and Scikit-Learn for data preprocessing."
      ],
      "metadata": {
        "id": "HOUU24T3F1l7"
      }
    },
    {
      "cell_type": "code",
      "source": [
        "import torch\n",
        "import numpy as np\n",
        "import pandas as pd\n",
        "import yfinance as yf\n",
        "import torch.nn as nn\n",
        "import torch.optim as optim\n",
        "import matplotlib.pyplot as plt\n",
        "from sklearn.preprocessing import MinMaxScaler"
      ],
      "metadata": {
        "id": "d6M8v70W3gQy"
      },
      "execution_count": null,
      "outputs": []
    },
    {
      "cell_type": "markdown",
      "source": [
        "##Loading and Preparing the Dataset\n",
        "When we run the first line, the library fetches the historical stock data for Apple Inc. (AAPL) from Yahoo Finance for the date range specified, which is from January 1, 2010, to January 1, 2021. This data includes various columns such as 'Open', 'High', 'Low', 'Close', 'Volume', and 'Adj Close'. The data is returned as a Pandas DataFrame. The closing prices are extracted from the DataFrame and converted to a NumPy array of floats for numerical computations. Next, the data is normalized to the range [-1, 1] using MinMaxScaler, which helps in improving the performance and convergence rate of the neural network."
      ],
      "metadata": {
        "id": "1k3eSVoSGDhC"
      }
    },
    {
      "cell_type": "code",
      "execution_count": null,
      "metadata": {
        "id": "NjPDrwk-mawi"
      },
      "outputs": [],
      "source": [
        "# Download historical stock data for Apple (AAPL) from Yahoo Finance\n",
        "df = yf.download('AAPL', start='2010-01-01', end='2021-01-01')\n",
        "\n",
        "# Extract the closing prices\n",
        "data = df['Close'].values.astype(float)\n",
        "\n",
        "# Normalize the closing prices and reshape the data\n",
        "scaler = MinMaxScaler(feature_range=(-1, 1))\n",
        "data_normalized = scaler.fit_transform(data.reshape(-1, 1))"
      ]
    },
    {
      "cell_type": "markdown",
      "source": [
        "## Creating Sequences for Training\n",
        "The function create_sequences is defined to generate sequences of length 30 from the normalized data, where each sequence is used to predict the next value. The data is then split into training and testing sets, with 80% used for training and 20% for testing. Finally, the training and testing data are converted to PyTorch tensors, making them ready for model training and evaluation. This comprehensive preprocessing ensures that the data is appropriately formatted and scaled for the GRU model."
      ],
      "metadata": {
        "id": "JcLmBIQlGHqL"
      }
    },
    {
      "cell_type": "code",
      "source": [
        "def create_sequences(data, seq_length):\n",
        "  # Initialize a list to store input sequences\n",
        "  xs = []\n",
        "  # Initialize a list to store target values\n",
        "  ys = []\n",
        "  for i in range(len(data)-seq_length):\n",
        "    # Extract a sequence of length seq_length\n",
        "    x = data[i:i+seq_length]\n",
        "    # Extract the next data point\n",
        "    y = data[i+seq_length]\n",
        "    # Append the sequence to the input list\n",
        "    xs.append(x)\n",
        "    # Append the target value to the target list\n",
        "    ys.append(y)\n",
        "  return np.array(xs), np.array(ys)\n",
        "\n",
        "seq_length = 30\n",
        "X, y = create_sequences(data_normalized, seq_length)\n",
        "\n",
        "# Define the training set size and Split the input sequences and theis related target values into training and test sets\n",
        "train_size = int(len(X) * 0.8)\n",
        "X_train, X_test = X[:train_size], X[train_size:]\n",
        "y_train, y_test = y[:train_size], y[train_size:]\n",
        "\n",
        "X_train = torch.from_numpy(X_train).float()\n",
        "y_train = torch.from_numpy(y_train).float()\n",
        "X_test = torch.from_numpy(X_test).float()\n",
        "y_test = torch.from_numpy(y_test).float()"
      ],
      "metadata": {
        "id": "Gr9i-XnVGF9j"
      },
      "execution_count": null,
      "outputs": []
    },
    {
      "cell_type": "markdown",
      "source": [
        "##Defining the GRU Model\n",
        "In this cell, we define the architecture of the GRU (Gated Recurrent Unit) model using PyTorch's nn.Module. The GRUModel class is created, and the __init__ method initializes the parameters of the model, including input_size, hidden_size, output_size, and num_layers. The GRU layer is defined with the specified input size, hidden size, and number of layers. Additionally, a fully connected layer (nn.Linear) is added to map the GRU outputs to the desired output size. The forward method defines the forward pass of the model, where an initial hidden state is created, the input data is passed through the GRU layer, and the output of the last time step is passed through the fully connected layer to generate the final prediction. This model architecture is designed to capture temporal dependencies in the stock price data, making it well-suited for time series forecasting.\n"
      ],
      "metadata": {
        "id": "pV3xXMfCGK4L"
      }
    },
    {
      "cell_type": "code",
      "source": [
        "# Define a GRU model class inheriting from nn.Module\n",
        "class GRUModel(nn.Module):\n",
        "    def __init__(self, input_size, hidden_layer_size, output_size, num_layers=2, dropout_prob=0.2):\n",
        "      super(GRUModel, self).__init__()\n",
        "      self.hidden_layer_size = hidden_layer_size\n",
        "      self.num_layers = num_layers\n",
        "      # Define the GRU layer\n",
        "      self.gru = nn.GRU(input_size, hidden_layer_size, num_layers, dropout=dropout_prob)\n",
        "      # Define the fully connected layer\n",
        "      self.linear = nn.Linear(hidden_layer_size, output_size)\n",
        "      # Initialize the hidden state\n",
        "      self.hidden_cell = torch.zeros(self.num_layers, 1, self.hidden_layer_size)\n",
        "\n",
        "    def forward(self, input_seq):\n",
        "      # Initialize the hidden state\n",
        "      reshaped_input = input_seq.view(len(input_seq), 1, -1)\n",
        "      # Pass the input through the GRU layer\n",
        "      gru_out, self.hidden_cell = self.gru(reshaped_input, self.hidden_cell)\n",
        "      # Pass the output of the last time step through the fully connected layer\n",
        "      predictions = self.linear(gru_out.view(len(input_seq), -1))\n",
        "      return predictions[-1]"
      ],
      "metadata": {
        "id": "UP8LxZDoweRB"
      },
      "execution_count": null,
      "outputs": []
    },
    {
      "cell_type": "markdown",
      "source": [
        "## Initializing the Model, Loss Function, and Optimizer\n",
        "In this cell, we initialize the GRU model with specific hyperparameters. The input_size is set to 1, as we are using a single feature (the closing price). The hidden_size is set to 100, indicating the number of features in the hidden state. The output_size is set to 1, as we are predicting a single value (the next closing price). The num_layers is set to 2, indicating that the GRU will have two stacked layers. Dropout rate is set to 0.2 to prevent the model from overfitting.\n",
        "\n",
        "The mean squared error (MSELoss) is chosen as the loss function, which measures the average squared difference between the predicted and actual values. The Adam optimizer is initialized with a learning rate of 0.001, which will be used to update the model parameters during training. This setup prepares the model for the training process, defining how it will learn from the data."
      ],
      "metadata": {
        "id": "UqHddoYqGUxs"
      }
    },
    {
      "cell_type": "code",
      "source": [
        "# Define GRU model\n",
        "model = GRUModel(input_size=1, hidden_layer_size=100, output_size=1, num_layers=2, dropout_prob=0.2)\n",
        "\n",
        "# Define MSE as loss function and Adam as optimizer\n",
        "loss_function = nn.MSELoss()\n",
        "optimizer = optim.Adam(model.parameters(), lr=0.001)"
      ],
      "metadata": {
        "id": "ETXNhcKFwf5Y"
      },
      "execution_count": null,
      "outputs": []
    },
    {
      "cell_type": "markdown",
      "source": [
        "## Training the model\n",
        "This cell handles the training process of the GRU model. The model is trained for a specified number of epochs (num_epochs set to 20). For each epoch, the model is set to training mode using model.train(). The training data is loaded in batches using train_loader. For each batch, the optimizer gradients are zeroed, the model makes predictions, the loss is computed, and the loss is backpropagated. The optimizer then updates the model parameters. After each epoch, the model is set to evaluation mode using model.eval(), and the validation loss is computed using val_loader. This validation step ensures that the model's performance is monitored on unseen data, helping to prevent overfitting. The average validation loss is printed at the end of each epoch, providing insight into the model's progress and effectiveness.\n",
        "\n",
        "Then, The model is set to evaluation mode using model.eval() to ensure that it does not update its parameters during testing. The evaluation is done within a torch.no_grad() context to prevent gradient computation, making the process faster and more memory-efficient. The test data is loaded in batches using test_loader. For each batch, the model makes predictions, and the loss is computed using the mean squared error criterion. The cumulative test loss is computed by summing the loss for each batch. Finally, the average test loss is printed, providing an unbiased estimate of the model's performance on unseen data. This step is crucial to verify that the model generalizes well and is ready for real-world predictions.\n",
        "\n",
        "In the code, we also used early stopping and model checkpointing are implemented to enhance the training process's efficiency and effectiveness. Early stopping monitors the validation loss and halts training if it stops improving, thereby preventing overfitting and ensuring that the model generalizes well to unseen data. Model checkpointing complements this by saving the model's parameters whenever a new lowest validation loss is observed. Specifically, during each epoch, the current epoch's validation loss (epoch_test_loss) is compared with the best validation loss recorded so far (best_test_loss). If the current validation loss is lower, best_test_loss is updated to this new value, and the current epoch is noted as best_epoch. Consequently, the model's state dictionary, which contains its parameters, is saved to a file named best_model.pth in the specified directory (model_dir). This process ensures that even if training is interrupted later, the best-performing model is preserved, thus facilitating better performance on future data predictions and avoiding overfitting."
      ],
      "metadata": {
        "id": "eds--67lGajT"
      }
    },
    {
      "cell_type": "code",
      "source": [
        "epochs = 200\n",
        "\n",
        "for epoch in range(epochs):\n",
        "  # train mode\n",
        "  model.train()\n",
        "  for seq, labels in zip(X_train, y_train):\n",
        "    # clear the gradients of all optimized parameters\n",
        "    optimizer.zero_grad()\n",
        "    # reset the hidden cell state of the model to zeros to prevent information leakage between sequences\n",
        "    model.hidden_cell = torch.zeros(model.num_layers, 1, model.hidden_layer_size)\n",
        "    # passe the input test sequence through the model to obtain the predictions\n",
        "    pred_train = model(seq)\n",
        "    # compute the loss between the model's predictions and the actual labels\n",
        "    train_loss = loss_function(pred_train, labels)\n",
        "    # compute the gradients of the loss with respect to the model weights (backpropagation)\n",
        "    train_loss.backward()\n",
        "    # update the model weights based on the computed gradients to minimize the loss\n",
        "    optimizer.step()\n",
        "\n",
        "  # eval mode\n",
        "  model.eval()\n",
        "  with torch.no_grad():\n",
        "    for seq, labels in zip(X_test, y_test):\n",
        "      model.hidden_cell = torch.zeros(model.num_layers, 1, model.hidden_layer_size)\n",
        "      pred_test = model(seq)\n",
        "      test_loss = loss_function(pred_test, labels)\n",
        "\n",
        "  if epoch % 10 == 0:\n",
        "      print(f'epoch: {epoch:3} train loss: {train_loss.item():10.8f}, test loss: {test_loss.item():10.8f}')"
      ],
      "metadata": {
        "id": "CjkIeTKswhdg",
        "colab": {
          "base_uri": "https://localhost:8080/"
        },
        "outputId": "262e4bac-5e0c-422c-ed69-6f1c8e292db8"
      },
      "execution_count": null,
      "outputs": [
        {
          "output_type": "stream",
          "name": "stdout",
          "text": [
            "epoch:   0 train loss: 0.00018306, test loss: 1.29208291\n",
            "epoch:  10 train loss: 0.00033145, test loss: 1.27119100\n",
            "epoch:  20 train loss: 0.00001995, test loss: 1.67265236\n",
            "epoch:  30 train loss: 0.00024924, test loss: 1.44777048\n",
            "epoch:  40 train loss: 0.00025148, test loss: 1.21561599\n",
            "epoch:  50 train loss: 0.00115227, test loss: 0.51763976\n",
            "epoch:  60 train loss: 0.00022703, test loss: 66.68912506\n",
            "epoch:  70 train loss: 0.00070108, test loss: 4.93643475\n",
            "epoch:  80 train loss: 0.00054829, test loss: 0.03229512\n",
            "epoch:  90 train loss: 0.00011294, test loss: 0.41429245\n",
            "epoch: 100 train loss: 0.00030307, test loss: 1.41765702\n",
            "epoch: 110 train loss: 0.00021106, test loss: 1.15934575\n",
            "epoch: 120 train loss: 0.00051082, test loss: 1.68679190\n",
            "epoch: 130 train loss: 0.00000672, test loss: 1.20035791\n",
            "epoch: 140 train loss: 0.00046130, test loss: 1.22890282\n",
            "epoch: 150 train loss: 0.00025972, test loss: 0.71944016\n",
            "epoch: 160 train loss: 0.00014859, test loss: 1.30290008\n",
            "epoch: 170 train loss: 0.00032602, test loss: 1.29015565\n",
            "epoch: 180 train loss: 0.00027436, test loss: 1.46882522\n",
            "epoch: 190 train loss: 0.00023474, test loss: 1.09469867\n"
          ]
        }
      ]
    },
    {
      "cell_type": "code",
      "source": [
        "# Final loss of final batch\n",
        "print(f'epoch: {epoch:3} train loss: {train_loss.item():10.8f}, test loss: {test_loss.item():10.8f}')"
      ],
      "metadata": {
        "colab": {
          "base_uri": "https://localhost:8080/"
        },
        "id": "XIi5CMenzL8X",
        "outputId": "6f87ba44-ebf3-4862-8721-53fe06a2fe11"
      },
      "execution_count": null,
      "outputs": [
        {
          "output_type": "stream",
          "name": "stdout",
          "text": [
            "epoch: 199 train loss: 0.00025594, test loss: 0.74428427\n"
          ]
        }
      ]
    },
    {
      "cell_type": "markdown",
      "source": [
        "##Making Predictions\n",
        "In this cell, we demonstrate how to use the trained GRU model to make predictions on new data. The model is set to evaluation mode using model.eval(), ensuring that no gradients are computed, and the model's parameters remain unchanged. Within a torch.no_grad() context, a sample input data is converted to a PyTorch tensor. The model then makes predictions based on this input data. The predicted values are printed, showcasing the model's ability to forecast future stock prices. This step illustrates the practical application of the trained model, allowing us to make informed predictions based on historical data."
      ],
      "metadata": {
        "id": "NHpuacGGGoud"
      }
    },
    {
      "cell_type": "code",
      "source": [
        "# Set the model to evaluation mode\n",
        "model.eval()\n",
        "\n",
        "# list to save train preds\n",
        "train_predictions = []\n",
        "\n",
        "for seq in X_train:\n",
        "  # Ensure no gradients are calculated\n",
        "  with torch.no_grad():\n",
        "    # Reset the hidden cell state\n",
        "    model.hidden_cell = torch.zeros(model.num_layers, 1, model.hidden_layer_size)\n",
        "    # # Pass the sequence through the model and store the prediction\n",
        "    train_predictions.append(model(seq).item())\n",
        "\n",
        "# list to save test preds\n",
        "test_predictions = []\n",
        "# Loop through each test sequence to generate predictions\n",
        "for seq in X_test:\n",
        "    with torch.no_grad():\n",
        "        model.hidden_cell = torch.zeros(model.num_layers, 1, model.hidden_layer_size)\n",
        "        test_predictions.append(model(seq).item())"
      ],
      "metadata": {
        "id": "nd5C2jCvwjoI"
      },
      "execution_count": null,
      "outputs": []
    },
    {
      "cell_type": "code",
      "source": [
        "# Inverse transform the scaled train/test predictions back to the original scale\n",
        "train_predictions = scaler.inverse_transform(np.array(train_predictions).reshape(-1, 1))\n",
        "test_predictions = scaler.inverse_transform(np.array(test_predictions).reshape(-1, 1))\n",
        "\n",
        "# Convert y_train/y_test from a PyTorch tensor to a NumPy array and reshape it for the inverse transform\n",
        "y_train = scaler.inverse_transform(y_train.numpy().reshape(-1, 1))\n",
        "y_test = scaler.inverse_transform(y_test.numpy().reshape(-1, 1))"
      ],
      "metadata": {
        "id": "PSKcUJZ1jZHg"
      },
      "execution_count": null,
      "outputs": []
    },
    {
      "cell_type": "code",
      "source": [
        "plt.figure(figsize=(10,6))\n",
        "\n",
        "# Plot the actual training data\n",
        "plt.plot(df.index[:len(y_train)], y_train, label='Train Data')\n",
        "# Plot the actual test data\n",
        "plt.plot(df.index[len(y_train):len(y_train)+len(y_test)], y_test, label='Test Data')\n",
        "\n",
        "# Plot the model's predictions for the training data\n",
        "plt.plot(df.index[:len(train_predictions)], train_predictions, label='Train Predictions')\n",
        "# Plot the model's predictions for the test data\n",
        "plt.plot(df.index[len(train_predictions):len(train_predictions)+len(test_predictions)],\n",
        "         test_predictions, label='Test Predictions')\n",
        "\n",
        "plt.legend()\n",
        "plt.show()"
      ],
      "metadata": {
        "colab": {
          "base_uri": "https://localhost:8080/",
          "height": 522
        },
        "id": "P4Lyy0tU4G0t",
        "outputId": "65e1c7d4-d640-427d-92ae-967ccbf61737"
      },
      "execution_count": null,
      "outputs": [
        {
          "output_type": "display_data",
          "data": {
            "text/plain": [
              "<Figure size 1000x600 with 1 Axes>"
            ],
            "image/png": "[encoded data removed]"
          },
          "metadata": {}
        }
      ]
    }
  ]
}